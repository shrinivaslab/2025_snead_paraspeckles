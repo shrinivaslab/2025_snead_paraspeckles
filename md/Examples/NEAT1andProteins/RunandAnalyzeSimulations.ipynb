{
 "cells": [
  {
   "cell_type": "markdown",
   "metadata": {},
   "source": [
    "## Run MD Simulations\n",
    "\n",
    "This notebook simulates multiple chains of NEAT1 with proteins (NONO, FUS, TDP-43)"
   ]
  },
  {
   "cell_type": "markdown",
   "metadata": {},
   "source": [
    "### Load Libraries"
   ]
  },
  {
   "cell_type": "code",
   "execution_count": null,
   "metadata": {},
   "outputs": [],
   "source": [
    "import sys\n",
    "sys.path.append('../../Code/SimulationCode/')\n",
    "import DataMangement as dm2p_ri\n",
    "import Spatial_IC as ic\n",
    "import CreateandRun_Spatial_Twoperiods_ri as car2p_ri\n",
    "import matplotlib.pyplot as plt\n",
    "sys.path.append('../../Code/AnalyzeData')\n",
    "import AnalyzeData as ad \n",
    "import PlottingData as plot\n",
    "import os"
   ]
  },
  {
   "cell_type": "markdown",
   "metadata": {},
   "source": [
    "### Run Simulations"
   ]
  },
  {
   "cell_type": "code",
   "execution_count": null,
   "metadata": {},
   "outputs": [],
   "source": [
    "#Read the interaction matrix\n",
    "inputmatrix='InteractionMatrix_Example.csv'"
   ]
  },
  {
   "cell_type": "code",
   "execution_count": null,
   "metadata": {},
   "outputs": [],
   "source": [
    "## Define experiment types\n",
    "version='RNAand3Proteins_2P_ri' #don't change this\n",
    "typefile='RNAand3Proteins' #don't change this \n",
    "experiment='Test' #name of folder to put in Data folder\n",
    "\n",
    "#number of NEAT1 copies\n",
    "Npolymer=5\n",
    "\n",
    "#number of trajectories to run\n",
    "num_trajectories=1\n",
    "\n",
    "#create name from input file\n",
    "name=inputmatrix.split('_')[1].split('.')[0]\n",
    "for i in range(num_trajectories):\n",
    "    subfolder=f'Interaction_{name}_NP_{Npolymer}'\n",
    "    print(subfolder)\n",
    "\n",
    "    #determine a random walk for RNA\n",
    "    vproteins,vrna,seed,mdseed=ic.pre_calcs(Npolymer,L=45,vcalc='fixedbox',walk_type='multiplewalks',Nproteins=12000,spacing=24,Lbox=150)\n",
    "\n",
    "    changes={'Npolymer':Npolymer}\n",
    "\n",
    "    #parameters to name on trajectory files\n",
    "    key_names=['L','Npolymer','Lbox','LE','P1Mep','vP1','spacing','seed']\n",
    "\n",
    "    #create new input file based on interaction matrix, changes, and new parameters\n",
    "    dictionary=dm2p_ri.create_input(inputmatrix,version,typefile,experiment,subfolder,changes,key_names,rnarna=False,change=False,rnarnatype=['Mep'], rnarnavalue=[1],testtype=['P1ep'], testvalue=[1])\n",
    "\n",
    "    #run simulation\n",
    "    car2p_ri.run_sim(dictionary['JobInputName'])\n"
   ]
  },
  {
   "cell_type": "markdown",
   "metadata": {},
   "source": [
    "### Analyze Data"
   ]
  },
  {
   "cell_type": "code",
   "execution_count": null,
   "metadata": {},
   "outputs": [],
   "source": [
    "folder='Data/Experiments/Test/Interaction_Example_NP_5'\n",
    "LC=True #Analyze the largest cluster\n",
    "num_files=15 #number of files to analyze from the end of the simulation\n",
    "\n",
    "#Calculate the average values of the data\n",
    "ad.run_avg(folder, calckey=['all'],num_files=num_files,LC=LC)\n",
    "\n",
    "#Plot the data\n",
    "plot_LC=True #Plot the largest cluster\n",
    "dataanalysisfolder=folder+'/DataAnalysis/'\n",
    "experimenttypename= 'LE15_NP5_Test_LC' #Name for plots\n",
    "plot.plot_data(dataanalysisfolder, experimenttypename, plot_LC,save=False)"
   ]
  },
  {
   "cell_type": "markdown",
   "metadata": {},
   "source": [
    "### Plot density profile with standard deviation "
   ]
  },
  {
   "cell_type": "code",
   "execution_count": null,
   "metadata": {},
   "outputs": [],
   "source": [
    "import pickle\n",
    "#pull average and all trajectory files ran for density profile\n",
    "densityfolder=dataanalysisfolder+'/Density_LC/'\n",
    "for file in os.listdir(densityfolder):\n",
    "    if file.endswith('_avg'):\n",
    "        avg=densityfolder+file\n",
    "    else:\n",
    "        alltrajs= densityfolder+file\n",
    "\n",
    "#plot density profile with standard deviation\n",
    "plot.plot_den_alltrajs_density(alltrajs,avg)"
   ]
  }
 ],
 "metadata": {
  "kernelspec": {
   "display_name": "paraspeckles",
   "language": "python",
   "name": "python3"
  },
  "language_info": {
   "codemirror_mode": {
    "name": "ipython",
    "version": 3
   },
   "file_extension": ".py",
   "mimetype": "text/x-python",
   "name": "python",
   "nbconvert_exporter": "python",
   "pygments_lexer": "ipython3",
   "version": "3.13.2"
  }
 },
 "nbformat": 4,
 "nbformat_minor": 2
}
